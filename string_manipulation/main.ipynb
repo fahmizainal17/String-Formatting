{
 "cells": [
  {
   "cell_type": "markdown",
   "metadata": {},
   "source": [
    "#Using Modulo Operator"
   ]
  },
  {
   "cell_type": "code",
   "execution_count": 9,
   "metadata": {},
   "outputs": [
    {
     "name": "stdout",
     "output_type": "stream",
     "text": [
      "Hi there!,I'm Fahmi, I'm 32 years old\n"
     ]
    }
   ],
   "source": [
    "name = 'Fahmi'\n",
    "age = 32\n",
    "string = \"Hi there!,I'm %s, I'm %d years old\" %(name,age)\n",
    "print(string)"
   ]
  },
  {
   "cell_type": "code",
   "execution_count": 3,
   "metadata": {},
   "outputs": [
    {
     "name": "stdout",
     "output_type": "stream",
     "text": [
      "Imran has friends name fahmi and syukri\n"
     ]
    }
   ],
   "source": [
    "x = \"fahmi\"\n",
    "string = \"Imran has friends name %s and %s\" %(x,\"syukri\")\n",
    "print(string)"
   ]
  },
  {
   "cell_type": "code",
   "execution_count": 8,
   "metadata": {},
   "outputs": [
    {
     "name": "stdout",
     "output_type": "stream",
     "text": [
      "she has total money spent today of rm101.23\n"
     ]
    }
   ],
   "source": [
    "print(\"she has total money spent today of rm%3.2f\"%(101.23))"
   ]
  },
  {
   "cell_type": "markdown",
   "metadata": {},
   "source": [
    "#Format() method"
   ]
  },
  {
   "cell_type": "code",
   "execution_count": 10,
   "metadata": {},
   "outputs": [
    {
     "name": "stdout",
     "output_type": "stream",
     "text": [
      "Welcome to Fahmi's home sweet home\n"
     ]
    }
   ],
   "source": [
    "print(\"Welcome to {}'s home sweet home\".format(\"Fahmi\"))"
   ]
  },
  {
   "cell_type": "code",
   "execution_count": null,
   "metadata": {},
   "outputs": [],
   "source": []
  }
 ],
 "metadata": {
  "kernelspec": {
   "display_name": ".venv",
   "language": "python",
   "name": "python3"
  },
  "language_info": {
   "codemirror_mode": {
    "name": "ipython",
    "version": 3
   },
   "file_extension": ".py",
   "mimetype": "text/x-python",
   "name": "python",
   "nbconvert_exporter": "python",
   "pygments_lexer": "ipython3",
   "version": "3.9.12"
  }
 },
 "nbformat": 4,
 "nbformat_minor": 2
}
